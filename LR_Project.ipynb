{
 "cells": [
  {
   "cell_type": "markdown",
   "id": "6dca1c4d",
   "metadata": {},
   "source": [
    "# Linear Regression Application Price Prediction Project"
   ]
  },
  {
   "cell_type": "markdown",
   "id": "e1d43062",
   "metadata": {},
   "source": [
    "In this project, we will be doing app price prediction using linear regression models. The Play Store Apps data has enormous potential to drive app-making business to success. Hence by drawing meaningful insights from data by doing analysis it can really help developers improve their work."
   ]
  },
  {
   "cell_type": "code",
   "execution_count": 773,
   "id": "890ba53a",
   "metadata": {},
   "outputs": [],
   "source": [
    "#Needed Libraries \n",
    "from bs4 import BeautifulSoup\n",
    "import requests\n",
    "import math\n",
    "import pandas as pd\n",
    "import numpy as np # linear algebra\n",
    "import matplotlib.pyplot as plt # this is used for the plot the graph \n",
    "import seaborn as sns # used for plot interactive graph.\n",
    "from sklearn.linear_model import LinearRegression, Ridge\n",
    "from sklearn.model_selection import train_test_split\n",
    "from sklearn.metrics import confusion_matrix\n",
    "from sklearn.metrics import accuracy_score\n",
    "from sklearn.metrics import classification_report\n",
    "from sklearn.svm import SVC\n",
    "%matplotlib inline\n",
    "import statsmodels.api as sm\n",
    "import statsmodels.formula.api as smf\n",
    "from sklearn import preprocessing\n",
    "import scipy.stats as stats\n",
    "import pandas as pd\n",
    "import numpy as np\n",
    "from sklearn.model_selection import train_test_split\n",
    "from sklearn.preprocessing import StandardScaler, PolynomialFeatures"
   ]
  },
  {
   "cell_type": "markdown",
   "id": "729dc991",
   "metadata": {},
   "source": [
    "# Scrapping"
   ]
  },
  {
   "cell_type": "code",
   "execution_count": 123,
   "id": "e66c2e51",
   "metadata": {},
   "outputs": [],
   "source": [
    "url = 'https://play.google.com/store/apps/collection/cluster?clp=0g4cChoKFHRvcHNlbGxpbmdfcGFpZF9HQU1FEAcYAw%3D%3D:S:ANO1ljLtt38&gsr=Ch_SDhwKGgoUdG9wc2VsbGluZ19wYWlkX0dBTUUQBxgD:S:ANO1ljJCqyI&gl=SA' \n",
    "response = requests.get(url,url2)"
   ]
  },
  {
   "cell_type": "code",
   "execution_count": 124,
   "id": "5bd683a5",
   "metadata": {},
   "outputs": [],
   "source": [
    "pages = response.text"
   ]
  },
  {
   "cell_type": "code",
   "execution_count": 125,
   "id": "997c9c21",
   "metadata": {},
   "outputs": [],
   "source": [
    "soup = BeautifulSoup(page, \"lxml\")"
   ]
  },
  {
   "cell_type": "code",
   "execution_count": 128,
   "id": "4451ee44",
   "metadata": {},
   "outputs": [],
   "source": [
    "divs =soup.find_all(class_='vU6FJ p63iDd') #all apps divs\n",
    "headers = [\"Price\", \"Reviews\", \"Rating\", \"Installs\", \"Category\"] \n",
    "apps = []\n",
    "for div in divs:\n",
    "    # for each app visit it's page to get it's information \n",
    "    app_url = \"https://play.google.com\"+div.find(class_=\"JC71ub\")[\"href\"]\n",
    "    response1 = requests.get(app_url)\n",
    "    if response1.status_code != 200:\n",
    "        continue\n",
    "        \n",
    "    page1 = response1.text\n",
    "    soup1 = BeautifulSoup(page1, \"lxml\")\n",
    "    \n",
    "    # if the app doesn't have price means it is free     \n",
    "    price = soup1.find(\"meta\", {\"itemprop\" : \"price\"}) #Price\n",
    "    if price:\n",
    "        price = float(price[\"content\"].replace(\"$\", \"\"))\n",
    "    else:\n",
    "        price = 0\n",
    "        \n",
    "    reviews = int(soup1.find(\"span\", class_=\"AYi5wd TBRnV\").text.replace(\",\", \"\")) #Number of reviewes\n",
    "    rating = float(soup1.find(\"div\", class_=\"BHMmbe\").text) #Rating\n",
    "    downloads = int(soup1.find_all(\"div\", class_=\"hAyfc\")[3].find(\"span\", class_=\"htlgb\").text.replace(\"+\", \"\").replace(\",\",\"\")) #Downloads\n",
    "    category = soup1.find(\"a\", {\"itemprop\" : \"genre\"}).text #Category\n",
    "\n",
    "    \n",
    "    #Create dict for each app and append it to the array     \n",
    "    apps_dict = dict(zip(headers, [price, reviews, rating, downloads, category])) \n",
    "    apps.append(apps_dict)"
   ]
  },
  {
   "cell_type": "code",
   "execution_count": 774,
   "id": "9d6825e1",
   "metadata": {},
   "outputs": [],
   "source": [
    "df1 = pd.DataFrame(apps)"
   ]
  },
  {
   "cell_type": "code",
   "execution_count": 775,
   "id": "0b912451",
   "metadata": {
    "scrolled": false
   },
   "outputs": [
    {
     "data": {
      "text/html": [
       "<div>\n",
       "<style scoped>\n",
       "    .dataframe tbody tr th:only-of-type {\n",
       "        vertical-align: middle;\n",
       "    }\n",
       "\n",
       "    .dataframe tbody tr th {\n",
       "        vertical-align: top;\n",
       "    }\n",
       "\n",
       "    .dataframe thead th {\n",
       "        text-align: right;\n",
       "    }\n",
       "</style>\n",
       "<table border=\"1\" class=\"dataframe\">\n",
       "  <thead>\n",
       "    <tr style=\"text-align: right;\">\n",
       "      <th></th>\n",
       "      <th>Price</th>\n",
       "      <th>Reviews</th>\n",
       "      <th>Rating</th>\n",
       "      <th>Installs</th>\n",
       "      <th>Category</th>\n",
       "    </tr>\n",
       "  </thead>\n",
       "  <tbody>\n",
       "    <tr>\n",
       "      <th>0</th>\n",
       "      <td>7.49</td>\n",
       "      <td>4271539</td>\n",
       "      <td>4.6</td>\n",
       "      <td>10000000</td>\n",
       "      <td>Arcade</td>\n",
       "    </tr>\n",
       "    <tr>\n",
       "      <th>1</th>\n",
       "      <td>6.99</td>\n",
       "      <td>653949</td>\n",
       "      <td>3.4</td>\n",
       "      <td>1000000</td>\n",
       "      <td>Action</td>\n",
       "    </tr>\n",
       "    <tr>\n",
       "      <th>2</th>\n",
       "      <td>0.99</td>\n",
       "      <td>36378</td>\n",
       "      <td>4.1</td>\n",
       "      <td>500000</td>\n",
       "      <td>Action</td>\n",
       "    </tr>\n",
       "    <tr>\n",
       "      <th>3</th>\n",
       "      <td>0.99</td>\n",
       "      <td>111562</td>\n",
       "      <td>4.3</td>\n",
       "      <td>1000000</td>\n",
       "      <td>Simulation</td>\n",
       "    </tr>\n",
       "    <tr>\n",
       "      <th>4</th>\n",
       "      <td>4.99</td>\n",
       "      <td>122</td>\n",
       "      <td>4.2</td>\n",
       "      <td>500</td>\n",
       "      <td>Simulation</td>\n",
       "    </tr>\n",
       "  </tbody>\n",
       "</table>\n",
       "</div>"
      ],
      "text/plain": [
       "   Price  Reviews  Rating  Installs    Category\n",
       "0   7.49  4271539     4.6  10000000      Arcade\n",
       "1   6.99   653949     3.4   1000000      Action\n",
       "2   0.99    36378     4.1    500000      Action\n",
       "3   0.99   111562     4.3   1000000  Simulation\n",
       "4   4.99      122     4.2       500  Simulation"
      ]
     },
     "execution_count": 775,
     "metadata": {},
     "output_type": "execute_result"
    }
   ],
   "source": [
    "df1.head()"
   ]
  },
  {
   "cell_type": "markdown",
   "id": "d231b57d",
   "metadata": {},
   "source": [
    "# Adding more data from a csv file"
   ]
  },
  {
   "cell_type": "code",
   "execution_count": 776,
   "id": "15ffb12c",
   "metadata": {},
   "outputs": [],
   "source": [
    "df2 = pd.read_csv(\"/Users/shahad/Desktop/R's/Projects/ML project/googleplaystore.csv\")"
   ]
  },
  {
   "cell_type": "code",
   "execution_count": 777,
   "id": "e7b29737",
   "metadata": {
    "scrolled": true
   },
   "outputs": [
    {
     "data": {
      "text/html": [
       "<div>\n",
       "<style scoped>\n",
       "    .dataframe tbody tr th:only-of-type {\n",
       "        vertical-align: middle;\n",
       "    }\n",
       "\n",
       "    .dataframe tbody tr th {\n",
       "        vertical-align: top;\n",
       "    }\n",
       "\n",
       "    .dataframe thead th {\n",
       "        text-align: right;\n",
       "    }\n",
       "</style>\n",
       "<table border=\"1\" class=\"dataframe\">\n",
       "  <thead>\n",
       "    <tr style=\"text-align: right;\">\n",
       "      <th></th>\n",
       "      <th>App</th>\n",
       "      <th>Category</th>\n",
       "      <th>Rating</th>\n",
       "      <th>Reviews</th>\n",
       "      <th>Size</th>\n",
       "      <th>Installs</th>\n",
       "      <th>Type</th>\n",
       "      <th>Price</th>\n",
       "      <th>Content Rating</th>\n",
       "      <th>Genres</th>\n",
       "      <th>Last Updated</th>\n",
       "      <th>Current Ver</th>\n",
       "      <th>Android Ver</th>\n",
       "    </tr>\n",
       "  </thead>\n",
       "  <tbody>\n",
       "    <tr>\n",
       "      <th>0</th>\n",
       "      <td>Photo Editor &amp; Candy Camera &amp; Grid &amp; ScrapBook</td>\n",
       "      <td>ART_AND_DESIGN</td>\n",
       "      <td>4.1</td>\n",
       "      <td>159</td>\n",
       "      <td>19M</td>\n",
       "      <td>10,000+</td>\n",
       "      <td>Free</td>\n",
       "      <td>0</td>\n",
       "      <td>Everyone</td>\n",
       "      <td>Art &amp; Design</td>\n",
       "      <td>January 7, 2018</td>\n",
       "      <td>1.0.0</td>\n",
       "      <td>4.0.3 and up</td>\n",
       "    </tr>\n",
       "    <tr>\n",
       "      <th>1</th>\n",
       "      <td>Coloring book moana</td>\n",
       "      <td>ART_AND_DESIGN</td>\n",
       "      <td>3.9</td>\n",
       "      <td>967</td>\n",
       "      <td>14M</td>\n",
       "      <td>500,000+</td>\n",
       "      <td>Free</td>\n",
       "      <td>0</td>\n",
       "      <td>Everyone</td>\n",
       "      <td>Art &amp; Design;Pretend Play</td>\n",
       "      <td>January 15, 2018</td>\n",
       "      <td>2.0.0</td>\n",
       "      <td>4.0.3 and up</td>\n",
       "    </tr>\n",
       "    <tr>\n",
       "      <th>2</th>\n",
       "      <td>U Launcher Lite – FREE Live Cool Themes, Hide ...</td>\n",
       "      <td>ART_AND_DESIGN</td>\n",
       "      <td>4.7</td>\n",
       "      <td>87510</td>\n",
       "      <td>8.7M</td>\n",
       "      <td>5,000,000+</td>\n",
       "      <td>Free</td>\n",
       "      <td>0</td>\n",
       "      <td>Everyone</td>\n",
       "      <td>Art &amp; Design</td>\n",
       "      <td>August 1, 2018</td>\n",
       "      <td>1.2.4</td>\n",
       "      <td>4.0.3 and up</td>\n",
       "    </tr>\n",
       "    <tr>\n",
       "      <th>3</th>\n",
       "      <td>Sketch - Draw &amp; Paint</td>\n",
       "      <td>ART_AND_DESIGN</td>\n",
       "      <td>4.5</td>\n",
       "      <td>215644</td>\n",
       "      <td>25M</td>\n",
       "      <td>50,000,000+</td>\n",
       "      <td>Free</td>\n",
       "      <td>0</td>\n",
       "      <td>Teen</td>\n",
       "      <td>Art &amp; Design</td>\n",
       "      <td>June 8, 2018</td>\n",
       "      <td>Varies with device</td>\n",
       "      <td>4.2 and up</td>\n",
       "    </tr>\n",
       "    <tr>\n",
       "      <th>4</th>\n",
       "      <td>Pixel Draw - Number Art Coloring Book</td>\n",
       "      <td>ART_AND_DESIGN</td>\n",
       "      <td>4.3</td>\n",
       "      <td>967</td>\n",
       "      <td>2.8M</td>\n",
       "      <td>100,000+</td>\n",
       "      <td>Free</td>\n",
       "      <td>0</td>\n",
       "      <td>Everyone</td>\n",
       "      <td>Art &amp; Design;Creativity</td>\n",
       "      <td>June 20, 2018</td>\n",
       "      <td>1.1</td>\n",
       "      <td>4.4 and up</td>\n",
       "    </tr>\n",
       "  </tbody>\n",
       "</table>\n",
       "</div>"
      ],
      "text/plain": [
       "                                                 App        Category  Rating  \\\n",
       "0     Photo Editor & Candy Camera & Grid & ScrapBook  ART_AND_DESIGN     4.1   \n",
       "1                                Coloring book moana  ART_AND_DESIGN     3.9   \n",
       "2  U Launcher Lite – FREE Live Cool Themes, Hide ...  ART_AND_DESIGN     4.7   \n",
       "3                              Sketch - Draw & Paint  ART_AND_DESIGN     4.5   \n",
       "4              Pixel Draw - Number Art Coloring Book  ART_AND_DESIGN     4.3   \n",
       "\n",
       "  Reviews  Size     Installs  Type Price Content Rating  \\\n",
       "0     159   19M      10,000+  Free     0       Everyone   \n",
       "1     967   14M     500,000+  Free     0       Everyone   \n",
       "2   87510  8.7M   5,000,000+  Free     0       Everyone   \n",
       "3  215644   25M  50,000,000+  Free     0           Teen   \n",
       "4     967  2.8M     100,000+  Free     0       Everyone   \n",
       "\n",
       "                      Genres      Last Updated         Current Ver  \\\n",
       "0               Art & Design   January 7, 2018               1.0.0   \n",
       "1  Art & Design;Pretend Play  January 15, 2018               2.0.0   \n",
       "2               Art & Design    August 1, 2018               1.2.4   \n",
       "3               Art & Design      June 8, 2018  Varies with device   \n",
       "4    Art & Design;Creativity     June 20, 2018                 1.1   \n",
       "\n",
       "    Android Ver  \n",
       "0  4.0.3 and up  \n",
       "1  4.0.3 and up  \n",
       "2  4.0.3 and up  \n",
       "3    4.2 and up  \n",
       "4    4.4 and up  "
      ]
     },
     "execution_count": 777,
     "metadata": {},
     "output_type": "execute_result"
    }
   ],
   "source": [
    "df2.head()"
   ]
  },
  {
   "cell_type": "markdown",
   "id": "51933880",
   "metadata": {},
   "source": [
    "# Cleaning & Pre-Processing"
   ]
  },
  {
   "cell_type": "code",
   "execution_count": 778,
   "id": "786afc0e",
   "metadata": {},
   "outputs": [],
   "source": [
    "df2.drop(['App','Size','Type','Content Rating','Genres','Last Updated','Current Ver','Android Ver'],axis=1,inplace=True)"
   ]
  },
  {
   "cell_type": "code",
   "execution_count": 779,
   "id": "5499cf6a",
   "metadata": {},
   "outputs": [
    {
     "name": "stderr",
     "output_type": "stream",
     "text": [
      "<ipython-input-779-98fd73380b2f>:1: FutureWarning: The default value of regex will change from True to False in a future version. In addition, single character regular expressions will*not* be treated as literal strings when regex=True.\n",
      "  df2['Installs'] = df2['Installs'].str.replace(',', '').str.replace('+', '')\n"
     ]
    }
   ],
   "source": [
    "df2['Installs'] = df2['Installs'].str.replace(',', '').str.replace('+', '')"
   ]
  },
  {
   "cell_type": "code",
   "execution_count": 780,
   "id": "6c450922",
   "metadata": {
    "scrolled": true
   },
   "outputs": [
    {
     "name": "stderr",
     "output_type": "stream",
     "text": [
      "<ipython-input-780-892b8b439c39>:1: FutureWarning: The default value of regex will change from True to False in a future version. In addition, single character regular expressions will*not* be treated as literal strings when regex=True.\n",
      "  df2['Price'] = df2['Price'].str.replace('$', '')\n"
     ]
    }
   ],
   "source": [
    "df2['Price'] = df2['Price'].str.replace('$', '')"
   ]
  },
  {
   "cell_type": "markdown",
   "id": "9b00cbf7",
   "metadata": {},
   "source": [
    "# Merging the two data frames"
   ]
  },
  {
   "cell_type": "code",
   "execution_count": 940,
   "id": "843fc56a",
   "metadata": {},
   "outputs": [],
   "source": [
    "df=pd.concat([df1,df2.iloc[1:100]])"
   ]
  },
  {
   "cell_type": "code",
   "execution_count": 941,
   "id": "1a60612e",
   "metadata": {},
   "outputs": [],
   "source": [
    "df = df.dropna()"
   ]
  },
  {
   "cell_type": "code",
   "execution_count": 942,
   "id": "47dab2b2",
   "metadata": {
    "scrolled": false
   },
   "outputs": [
    {
     "data": {
      "text/html": [
       "<div>\n",
       "<style scoped>\n",
       "    .dataframe tbody tr th:only-of-type {\n",
       "        vertical-align: middle;\n",
       "    }\n",
       "\n",
       "    .dataframe tbody tr th {\n",
       "        vertical-align: top;\n",
       "    }\n",
       "\n",
       "    .dataframe thead th {\n",
       "        text-align: right;\n",
       "    }\n",
       "</style>\n",
       "<table border=\"1\" class=\"dataframe\">\n",
       "  <thead>\n",
       "    <tr style=\"text-align: right;\">\n",
       "      <th></th>\n",
       "      <th>Price</th>\n",
       "      <th>Reviews</th>\n",
       "      <th>Rating</th>\n",
       "      <th>Installs</th>\n",
       "      <th>Category</th>\n",
       "    </tr>\n",
       "  </thead>\n",
       "  <tbody>\n",
       "    <tr>\n",
       "      <th>0</th>\n",
       "      <td>7.49</td>\n",
       "      <td>4271539</td>\n",
       "      <td>4.6</td>\n",
       "      <td>10000000</td>\n",
       "      <td>Arcade</td>\n",
       "    </tr>\n",
       "    <tr>\n",
       "      <th>1</th>\n",
       "      <td>6.99</td>\n",
       "      <td>653949</td>\n",
       "      <td>3.4</td>\n",
       "      <td>1000000</td>\n",
       "      <td>Action</td>\n",
       "    </tr>\n",
       "    <tr>\n",
       "      <th>2</th>\n",
       "      <td>0.99</td>\n",
       "      <td>36378</td>\n",
       "      <td>4.1</td>\n",
       "      <td>500000</td>\n",
       "      <td>Action</td>\n",
       "    </tr>\n",
       "    <tr>\n",
       "      <th>3</th>\n",
       "      <td>0.99</td>\n",
       "      <td>111562</td>\n",
       "      <td>4.3</td>\n",
       "      <td>1000000</td>\n",
       "      <td>Simulation</td>\n",
       "    </tr>\n",
       "    <tr>\n",
       "      <th>4</th>\n",
       "      <td>4.99</td>\n",
       "      <td>122</td>\n",
       "      <td>4.2</td>\n",
       "      <td>500</td>\n",
       "      <td>Simulation</td>\n",
       "    </tr>\n",
       "    <tr>\n",
       "      <th>...</th>\n",
       "      <td>...</td>\n",
       "      <td>...</td>\n",
       "      <td>...</td>\n",
       "      <td>...</td>\n",
       "      <td>...</td>\n",
       "    </tr>\n",
       "    <tr>\n",
       "      <th>95</th>\n",
       "      <td>0</td>\n",
       "      <td>1754</td>\n",
       "      <td>4.0</td>\n",
       "      <td>500000</td>\n",
       "      <td>AUTO_AND_VEHICLES</td>\n",
       "    </tr>\n",
       "    <tr>\n",
       "      <th>96</th>\n",
       "      <td>0</td>\n",
       "      <td>2680</td>\n",
       "      <td>4.4</td>\n",
       "      <td>500000</td>\n",
       "      <td>AUTO_AND_VEHICLES</td>\n",
       "    </tr>\n",
       "    <tr>\n",
       "      <th>97</th>\n",
       "      <td>0</td>\n",
       "      <td>1288</td>\n",
       "      <td>4.0</td>\n",
       "      <td>100000</td>\n",
       "      <td>AUTO_AND_VEHICLES</td>\n",
       "    </tr>\n",
       "    <tr>\n",
       "      <th>98</th>\n",
       "      <td>0</td>\n",
       "      <td>18900</td>\n",
       "      <td>4.7</td>\n",
       "      <td>500000</td>\n",
       "      <td>BEAUTY</td>\n",
       "    </tr>\n",
       "    <tr>\n",
       "      <th>99</th>\n",
       "      <td>0</td>\n",
       "      <td>49790</td>\n",
       "      <td>4.9</td>\n",
       "      <td>1000000</td>\n",
       "      <td>BEAUTY</td>\n",
       "    </tr>\n",
       "  </tbody>\n",
       "</table>\n",
       "<p>148 rows × 5 columns</p>\n",
       "</div>"
      ],
      "text/plain": [
       "   Price  Reviews  Rating  Installs           Category\n",
       "0   7.49  4271539     4.6  10000000             Arcade\n",
       "1   6.99   653949     3.4   1000000             Action\n",
       "2   0.99    36378     4.1    500000             Action\n",
       "3   0.99   111562     4.3   1000000         Simulation\n",
       "4   4.99      122     4.2       500         Simulation\n",
       "..   ...      ...     ...       ...                ...\n",
       "95     0     1754     4.0    500000  AUTO_AND_VEHICLES\n",
       "96     0     2680     4.4    500000  AUTO_AND_VEHICLES\n",
       "97     0     1288     4.0    100000  AUTO_AND_VEHICLES\n",
       "98     0    18900     4.7    500000             BEAUTY\n",
       "99     0    49790     4.9   1000000             BEAUTY\n",
       "\n",
       "[148 rows x 5 columns]"
      ]
     },
     "execution_count": 942,
     "metadata": {},
     "output_type": "execute_result"
    }
   ],
   "source": [
    "df"
   ]
  },
  {
   "cell_type": "code",
   "execution_count": 943,
   "id": "eaca667d",
   "metadata": {
    "scrolled": false
   },
   "outputs": [
    {
     "name": "stdout",
     "output_type": "stream",
     "text": [
      "<class 'pandas.core.frame.DataFrame'>\n",
      "Int64Index: 148 entries, 0 to 99\n",
      "Data columns (total 5 columns):\n",
      " #   Column    Non-Null Count  Dtype  \n",
      "---  ------    --------------  -----  \n",
      " 0   Price     148 non-null    object \n",
      " 1   Reviews   148 non-null    object \n",
      " 2   Rating    148 non-null    float64\n",
      " 3   Installs  148 non-null    object \n",
      " 4   Category  148 non-null    object \n",
      "dtypes: float64(1), object(4)\n",
      "memory usage: 6.9+ KB\n"
     ]
    }
   ],
   "source": [
    "df.info()"
   ]
  },
  {
   "cell_type": "code",
   "execution_count": 944,
   "id": "494df127",
   "metadata": {},
   "outputs": [],
   "source": [
    "df['Price']=df['Price'].astype(float)\n",
    "df['Reviews']=df['Reviews'].astype(float)\n",
    "df['Installs']=df['Installs'].astype(float)"
   ]
  },
  {
   "cell_type": "code",
   "execution_count": 945,
   "id": "7a132d07",
   "metadata": {
    "scrolled": true
   },
   "outputs": [
    {
     "data": {
      "text/html": [
       "<div>\n",
       "<style scoped>\n",
       "    .dataframe tbody tr th:only-of-type {\n",
       "        vertical-align: middle;\n",
       "    }\n",
       "\n",
       "    .dataframe tbody tr th {\n",
       "        vertical-align: top;\n",
       "    }\n",
       "\n",
       "    .dataframe thead th {\n",
       "        text-align: right;\n",
       "    }\n",
       "</style>\n",
       "<table border=\"1\" class=\"dataframe\">\n",
       "  <thead>\n",
       "    <tr style=\"text-align: right;\">\n",
       "      <th></th>\n",
       "      <th>Price</th>\n",
       "      <th>Reviews</th>\n",
       "      <th>Rating</th>\n",
       "      <th>Installs</th>\n",
       "    </tr>\n",
       "  </thead>\n",
       "  <tbody>\n",
       "    <tr>\n",
       "      <th>count</th>\n",
       "      <td>148.000000</td>\n",
       "      <td>1.480000e+02</td>\n",
       "      <td>148.000000</td>\n",
       "      <td>1.480000e+02</td>\n",
       "    </tr>\n",
       "    <tr>\n",
       "      <th>mean</th>\n",
       "      <td>1.184324</td>\n",
       "      <td>7.566080e+04</td>\n",
       "      <td>4.298649</td>\n",
       "      <td>1.379970e+06</td>\n",
       "    </tr>\n",
       "    <tr>\n",
       "      <th>std</th>\n",
       "      <td>2.185355</td>\n",
       "      <td>3.678760e+05</td>\n",
       "      <td>0.375434</td>\n",
       "      <td>4.616549e+06</td>\n",
       "    </tr>\n",
       "    <tr>\n",
       "      <th>min</th>\n",
       "      <td>0.000000</td>\n",
       "      <td>2.600000e+01</td>\n",
       "      <td>2.900000</td>\n",
       "      <td>5.000000e+02</td>\n",
       "    </tr>\n",
       "    <tr>\n",
       "      <th>25%</th>\n",
       "      <td>0.000000</td>\n",
       "      <td>6.382500e+02</td>\n",
       "      <td>4.100000</td>\n",
       "      <td>1.000000e+05</td>\n",
       "    </tr>\n",
       "    <tr>\n",
       "      <th>50%</th>\n",
       "      <td>0.000000</td>\n",
       "      <td>4.920500e+03</td>\n",
       "      <td>4.300000</td>\n",
       "      <td>1.000000e+05</td>\n",
       "    </tr>\n",
       "    <tr>\n",
       "      <th>75%</th>\n",
       "      <td>1.115000</td>\n",
       "      <td>3.644325e+04</td>\n",
       "      <td>4.600000</td>\n",
       "      <td>1.000000e+06</td>\n",
       "    </tr>\n",
       "    <tr>\n",
       "      <th>max</th>\n",
       "      <td>9.990000</td>\n",
       "      <td>4.271539e+06</td>\n",
       "      <td>4.900000</td>\n",
       "      <td>5.000000e+07</td>\n",
       "    </tr>\n",
       "  </tbody>\n",
       "</table>\n",
       "</div>"
      ],
      "text/plain": [
       "            Price       Reviews      Rating      Installs\n",
       "count  148.000000  1.480000e+02  148.000000  1.480000e+02\n",
       "mean     1.184324  7.566080e+04    4.298649  1.379970e+06\n",
       "std      2.185355  3.678760e+05    0.375434  4.616549e+06\n",
       "min      0.000000  2.600000e+01    2.900000  5.000000e+02\n",
       "25%      0.000000  6.382500e+02    4.100000  1.000000e+05\n",
       "50%      0.000000  4.920500e+03    4.300000  1.000000e+05\n",
       "75%      1.115000  3.644325e+04    4.600000  1.000000e+06\n",
       "max      9.990000  4.271539e+06    4.900000  5.000000e+07"
      ]
     },
     "execution_count": 945,
     "metadata": {},
     "output_type": "execute_result"
    }
   ],
   "source": [
    "df.describe()"
   ]
  },
  {
   "cell_type": "code",
   "execution_count": 946,
   "id": "f53af98c",
   "metadata": {
    "scrolled": true
   },
   "outputs": [
    {
     "data": {
      "image/png": "[encoded data removed]",
      "text/plain": [
       "<Figure size 518.4x345.6 with 20 Axes>"
      ]
     },
     "metadata": {
      "needs_background": "light"
     },
     "output_type": "display_data"
    }
   ],
   "source": [
    "sns.pairplot(df, height=1.2, aspect=1.5);"
   ]
  },
  {
   "cell_type": "markdown",
   "id": "b235a18a",
   "metadata": {},
   "source": [
    "# View the correlations"
   ]
  },
  {
   "cell_type": "code",
   "execution_count": 947,
   "id": "03ecf9e9",
   "metadata": {
    "scrolled": true
   },
   "outputs": [
    {
     "data": {
      "text/html": [
       "<div>\n",
       "<style scoped>\n",
       "    .dataframe tbody tr th:only-of-type {\n",
       "        vertical-align: middle;\n",
       "    }\n",
       "\n",
       "    .dataframe tbody tr th {\n",
       "        vertical-align: top;\n",
       "    }\n",
       "\n",
       "    .dataframe thead th {\n",
       "        text-align: right;\n",
       "    }\n",
       "</style>\n",
       "<table border=\"1\" class=\"dataframe\">\n",
       "  <thead>\n",
       "    <tr style=\"text-align: right;\">\n",
       "      <th></th>\n",
       "      <th>Price</th>\n",
       "      <th>Reviews</th>\n",
       "      <th>Rating</th>\n",
       "      <th>Installs</th>\n",
       "    </tr>\n",
       "  </thead>\n",
       "  <tbody>\n",
       "    <tr>\n",
       "      <th>Price</th>\n",
       "      <td>1.000000</td>\n",
       "      <td>0.275843</td>\n",
       "      <td>-0.199931</td>\n",
       "      <td>-0.056238</td>\n",
       "    </tr>\n",
       "    <tr>\n",
       "      <th>Reviews</th>\n",
       "      <td>0.275843</td>\n",
       "      <td>1.000000</td>\n",
       "      <td>0.093691</td>\n",
       "      <td>0.266461</td>\n",
       "    </tr>\n",
       "    <tr>\n",
       "      <th>Rating</th>\n",
       "      <td>-0.199931</td>\n",
       "      <td>0.093691</td>\n",
       "      <td>1.000000</td>\n",
       "      <td>0.109821</td>\n",
       "    </tr>\n",
       "    <tr>\n",
       "      <th>Installs</th>\n",
       "      <td>-0.056238</td>\n",
       "      <td>0.266461</td>\n",
       "      <td>0.109821</td>\n",
       "      <td>1.000000</td>\n",
       "    </tr>\n",
       "  </tbody>\n",
       "</table>\n",
       "</div>"
      ],
      "text/plain": [
       "             Price   Reviews    Rating  Installs\n",
       "Price     1.000000  0.275843 -0.199931 -0.056238\n",
       "Reviews   0.275843  1.000000  0.093691  0.266461\n",
       "Rating   -0.199931  0.093691  1.000000  0.109821\n",
       "Installs -0.056238  0.266461  0.109821  1.000000"
      ]
     },
     "execution_count": 947,
     "metadata": {},
     "output_type": "execute_result"
    }
   ],
   "source": [
    "df.corr()"
   ]
  },
  {
   "cell_type": "code",
   "execution_count": 948,
   "id": "0fcdc87a",
   "metadata": {},
   "outputs": [
    {
     "data": {
      "image/png": "[encoded data removed]",
      "text/plain": [
       "<Figure size 432x288 with 2 Axes>"
      ]
     },
     "metadata": {
      "needs_background": "light"
     },
     "output_type": "display_data"
    }
   ],
   "source": [
    "#corr matrix\n",
    "sns.heatmap(df.corr(), cmap=\"seismic\", annot=True, vmin=-1, vmax=1);"
   ]
  },
  {
   "cell_type": "markdown",
   "id": "67c8b5d3",
   "metadata": {},
   "source": [
    "# Change categorical variable to numerical"
   ]
  },
  {
   "cell_type": "code",
   "execution_count": 949,
   "id": "f77f2b0e",
   "metadata": {
    "scrolled": true
   },
   "outputs": [
    {
     "data": {
      "text/plain": [
       "AUTO_AND_VEHICLES    49\n",
       "ART_AND_DESIGN       47\n",
       "Action               14\n",
       "Arcade               10\n",
       "Simulation            6\n",
       "Casual                4\n",
       "Adventure             4\n",
       "Educational           3\n",
       "Strategy              3\n",
       "BEAUTY                2\n",
       "Puzzle                2\n",
       "Role Playing          2\n",
       "Racing                1\n",
       "Board                 1\n",
       "Name: Category, dtype: int64"
      ]
     },
     "execution_count": 949,
     "metadata": {},
     "output_type": "execute_result"
    }
   ],
   "source": [
    "ctg_counts = df.Category.value_counts()\n",
    "ctg_counts"
   ]
  },
  {
   "cell_type": "code",
   "execution_count": 950,
   "id": "95b45b71",
   "metadata": {},
   "outputs": [],
   "source": [
    "other_ctg = list(ctg_counts[ctg_counts < 10].index) # \"return the indcies for the nighbor counts less than 10\"\n",
    "\n",
    "\n",
    "df['Category'] = df['Category'].replace(other_ctg, 'Other') # \"replace the categories having count less than 10 by other\"\n"
   ]
  },
  {
   "cell_type": "code",
   "execution_count": 951,
   "id": "2d540b2e",
   "metadata": {},
   "outputs": [],
   "source": [
    "df=pd.get_dummies(df)"
   ]
  },
  {
   "cell_type": "code",
   "execution_count": 952,
   "id": "d99c66cb",
   "metadata": {},
   "outputs": [
    {
     "data": {
      "text/html": [
       "<div>\n",
       "<style scoped>\n",
       "    .dataframe tbody tr th:only-of-type {\n",
       "        vertical-align: middle;\n",
       "    }\n",
       "\n",
       "    .dataframe tbody tr th {\n",
       "        vertical-align: top;\n",
       "    }\n",
       "\n",
       "    .dataframe thead th {\n",
       "        text-align: right;\n",
       "    }\n",
       "</style>\n",
       "<table border=\"1\" class=\"dataframe\">\n",
       "  <thead>\n",
       "    <tr style=\"text-align: right;\">\n",
       "      <th></th>\n",
       "      <th>Price</th>\n",
       "      <th>Reviews</th>\n",
       "      <th>Rating</th>\n",
       "      <th>Installs</th>\n",
       "      <th>Category_ART_AND_DESIGN</th>\n",
       "      <th>Category_AUTO_AND_VEHICLES</th>\n",
       "      <th>Category_Action</th>\n",
       "      <th>Category_Arcade</th>\n",
       "      <th>Category_Other</th>\n",
       "    </tr>\n",
       "  </thead>\n",
       "  <tbody>\n",
       "    <tr>\n",
       "      <th>0</th>\n",
       "      <td>7.49</td>\n",
       "      <td>4271539.0</td>\n",
       "      <td>4.6</td>\n",
       "      <td>10000000.0</td>\n",
       "      <td>0</td>\n",
       "      <td>0</td>\n",
       "      <td>0</td>\n",
       "      <td>1</td>\n",
       "      <td>0</td>\n",
       "    </tr>\n",
       "    <tr>\n",
       "      <th>1</th>\n",
       "      <td>6.99</td>\n",
       "      <td>653949.0</td>\n",
       "      <td>3.4</td>\n",
       "      <td>1000000.0</td>\n",
       "      <td>0</td>\n",
       "      <td>0</td>\n",
       "      <td>1</td>\n",
       "      <td>0</td>\n",
       "      <td>0</td>\n",
       "    </tr>\n",
       "    <tr>\n",
       "      <th>2</th>\n",
       "      <td>0.99</td>\n",
       "      <td>36378.0</td>\n",
       "      <td>4.1</td>\n",
       "      <td>500000.0</td>\n",
       "      <td>0</td>\n",
       "      <td>0</td>\n",
       "      <td>1</td>\n",
       "      <td>0</td>\n",
       "      <td>0</td>\n",
       "    </tr>\n",
       "    <tr>\n",
       "      <th>3</th>\n",
       "      <td>0.99</td>\n",
       "      <td>111562.0</td>\n",
       "      <td>4.3</td>\n",
       "      <td>1000000.0</td>\n",
       "      <td>0</td>\n",
       "      <td>0</td>\n",
       "      <td>0</td>\n",
       "      <td>0</td>\n",
       "      <td>1</td>\n",
       "    </tr>\n",
       "    <tr>\n",
       "      <th>4</th>\n",
       "      <td>4.99</td>\n",
       "      <td>122.0</td>\n",
       "      <td>4.2</td>\n",
       "      <td>500.0</td>\n",
       "      <td>0</td>\n",
       "      <td>0</td>\n",
       "      <td>0</td>\n",
       "      <td>0</td>\n",
       "      <td>1</td>\n",
       "    </tr>\n",
       "  </tbody>\n",
       "</table>\n",
       "</div>"
      ],
      "text/plain": [
       "   Price    Reviews  Rating    Installs  Category_ART_AND_DESIGN  \\\n",
       "0   7.49  4271539.0     4.6  10000000.0                        0   \n",
       "1   6.99   653949.0     3.4   1000000.0                        0   \n",
       "2   0.99    36378.0     4.1    500000.0                        0   \n",
       "3   0.99   111562.0     4.3   1000000.0                        0   \n",
       "4   4.99      122.0     4.2       500.0                        0   \n",
       "\n",
       "   Category_AUTO_AND_VEHICLES  Category_Action  Category_Arcade  \\\n",
       "0                           0                0                1   \n",
       "1                           0                1                0   \n",
       "2                           0                1                0   \n",
       "3                           0                0                0   \n",
       "4                           0                0                0   \n",
       "\n",
       "   Category_Other  \n",
       "0               0  \n",
       "1               0  \n",
       "2               0  \n",
       "3               1  \n",
       "4               1  "
      ]
     },
     "execution_count": 952,
     "metadata": {},
     "output_type": "execute_result"
    }
   ],
   "source": [
    "df.head()"
   ]
  },
  {
   "cell_type": "markdown",
   "id": "2e9dd00c",
   "metadata": {},
   "source": [
    "# Separate our features from our target"
   ]
  },
  {
   "cell_type": "code",
   "execution_count": 953,
   "id": "cb8ab375",
   "metadata": {},
   "outputs": [],
   "source": [
    "X = df.loc[:,['Rating', 'Installs', 'Reviews']]\n",
    "\n",
    "y = df['Price']"
   ]
  },
  {
   "cell_type": "code",
   "execution_count": 954,
   "id": "7d782f26",
   "metadata": {},
   "outputs": [],
   "source": [
    "X_dummies = df.loc[:,['Rating', 'Installs', 'Reviews', 'Category_ART_AND_DESIGN', 'Category_AUTO_AND_VEHICLES', 'Category_Action','Category_Arcade','Category_Other']]\n",
    "\n",
    "y = df['Price']"
   ]
  },
  {
   "cell_type": "markdown",
   "id": "d2808546",
   "metadata": {},
   "source": [
    "# Linear regression model"
   ]
  },
  {
   "cell_type": "markdown",
   "id": "88646ca3",
   "metadata": {},
   "source": [
    "Used train test split with 25% test size and 75% train size"
   ]
  },
  {
   "cell_type": "code",
   "execution_count": 955,
   "id": "bc754ff3",
   "metadata": {},
   "outputs": [
    {
     "name": "stdout",
     "output_type": "stream",
     "text": [
      "Linear Regression for test R^2: 0.1690647353900907\n",
      "Linear Regression for test R^2: 0.05297079090267931\n"
     ]
    }
   ],
   "source": [
    "X_train, X_val, y_train, y_val = train_test_split(X, y, test_size=0.25, random_state=42) #without dummies\n",
    "\n",
    "# fit linear regression to training data\n",
    "lr_model = LinearRegression()\n",
    "lr_model.fit(X_train, y_train)\n",
    "print(f'Linear Regression for test R^2: {lr_model.score(X_train, y_train)}')\n",
    "val_score = lr_model.score(X_val, y_val)\n",
    "print(f'Linear Regression for test R^2: {val_score}')"
   ]
  },
  {
   "cell_type": "code",
   "execution_count": 956,
   "id": "ed856db4",
   "metadata": {},
   "outputs": [
    {
     "name": "stdout",
     "output_type": "stream",
     "text": [
      "Linear Regression for test R^2: 0.6327299243721343\n",
      "Linear Regression for test R^2: 0.5980561751597702\n"
     ]
    }
   ],
   "source": [
    "X_train, X_val, y_train, y_val = train_test_split(X_dummies, y, test_size=0.25, random_state=42) # with dummies\n",
    "\n",
    "# fit linear regression to training data\n",
    "lr_model = LinearRegression()\n",
    "lr_model.fit(X_train, y_train)\n",
    "print(f'Linear Regression for test R^2: {lr_model.score(X_train, y_train)}')\n",
    "val_score = lr_model.score(X_val, y_val)\n",
    "print(f'Linear Regression for test R^2: {val_score}')"
   ]
  },
  {
   "cell_type": "markdown",
   "id": "6f9ff9dc",
   "metadata": {},
   "source": [
    "# Feature Engineering"
   ]
  },
  {
   "cell_type": "markdown",
   "id": "04aa6fe0",
   "metadata": {},
   "source": [
    "To improve model's performance "
   ]
  },
  {
   "cell_type": "code",
   "execution_count": 957,
   "id": "44093bdb",
   "metadata": {},
   "outputs": [
    {
     "data": {
      "text/html": [
       "<div>\n",
       "<style scoped>\n",
       "    .dataframe tbody tr th:only-of-type {\n",
       "        vertical-align: middle;\n",
       "    }\n",
       "\n",
       "    .dataframe tbody tr th {\n",
       "        vertical-align: top;\n",
       "    }\n",
       "\n",
       "    .dataframe thead th {\n",
       "        text-align: right;\n",
       "    }\n",
       "</style>\n",
       "<table border=\"1\" class=\"dataframe\">\n",
       "  <thead>\n",
       "    <tr style=\"text-align: right;\">\n",
       "      <th></th>\n",
       "      <th>Rating</th>\n",
       "      <th>Installs</th>\n",
       "      <th>Reviews</th>\n",
       "      <th>Category_ART_AND_DESIGN</th>\n",
       "      <th>Category_AUTO_AND_VEHICLES</th>\n",
       "      <th>Category_Action</th>\n",
       "      <th>Category_Arcade</th>\n",
       "      <th>Category_Other</th>\n",
       "    </tr>\n",
       "  </thead>\n",
       "  <tbody>\n",
       "    <tr>\n",
       "      <th>0</th>\n",
       "      <td>21.16</td>\n",
       "      <td>10000000.0</td>\n",
       "      <td>4271539.0</td>\n",
       "      <td>0</td>\n",
       "      <td>0</td>\n",
       "      <td>0</td>\n",
       "      <td>1</td>\n",
       "      <td>0</td>\n",
       "    </tr>\n",
       "    <tr>\n",
       "      <th>1</th>\n",
       "      <td>11.56</td>\n",
       "      <td>1000000.0</td>\n",
       "      <td>653949.0</td>\n",
       "      <td>0</td>\n",
       "      <td>0</td>\n",
       "      <td>1</td>\n",
       "      <td>0</td>\n",
       "      <td>0</td>\n",
       "    </tr>\n",
       "    <tr>\n",
       "      <th>2</th>\n",
       "      <td>16.81</td>\n",
       "      <td>500000.0</td>\n",
       "      <td>36378.0</td>\n",
       "      <td>0</td>\n",
       "      <td>0</td>\n",
       "      <td>1</td>\n",
       "      <td>0</td>\n",
       "      <td>0</td>\n",
       "    </tr>\n",
       "    <tr>\n",
       "      <th>3</th>\n",
       "      <td>18.49</td>\n",
       "      <td>1000000.0</td>\n",
       "      <td>111562.0</td>\n",
       "      <td>0</td>\n",
       "      <td>0</td>\n",
       "      <td>0</td>\n",
       "      <td>0</td>\n",
       "      <td>1</td>\n",
       "    </tr>\n",
       "    <tr>\n",
       "      <th>4</th>\n",
       "      <td>17.64</td>\n",
       "      <td>500.0</td>\n",
       "      <td>122.0</td>\n",
       "      <td>0</td>\n",
       "      <td>0</td>\n",
       "      <td>0</td>\n",
       "      <td>0</td>\n",
       "      <td>1</td>\n",
       "    </tr>\n",
       "  </tbody>\n",
       "</table>\n",
       "</div>"
      ],
      "text/plain": [
       "   Rating    Installs    Reviews  Category_ART_AND_DESIGN  \\\n",
       "0   21.16  10000000.0  4271539.0                        0   \n",
       "1   11.56   1000000.0   653949.0                        0   \n",
       "2   16.81    500000.0    36378.0                        0   \n",
       "3   18.49   1000000.0   111562.0                        0   \n",
       "4   17.64       500.0      122.0                        0   \n",
       "\n",
       "   Category_AUTO_AND_VEHICLES  Category_Action  Category_Arcade  \\\n",
       "0                           0                0                1   \n",
       "1                           0                1                0   \n",
       "2                           0                1                0   \n",
       "3                           0                0                0   \n",
       "4                           0                0                0   \n",
       "\n",
       "   Category_Other  \n",
       "0               0  \n",
       "1               0  \n",
       "2               0  \n",
       "3               1  \n",
       "4               1  "
      ]
     },
     "execution_count": 957,
     "metadata": {},
     "output_type": "execute_result"
    }
   ],
   "source": [
    "X1 = X_dummies.copy()\n",
    "\n",
    "X1['Rating'] = X1['Rating'] ** 2 # \"adding quadratic terms to the data frame\"\n",
    "\n",
    "X1.head()"
   ]
  },
  {
   "cell_type": "code",
   "execution_count": 958,
   "id": "e9b3956c",
   "metadata": {},
   "outputs": [
    {
     "name": "stdout",
     "output_type": "stream",
     "text": [
      "Linear Regression for train R^2:0.6297709735778613\n",
      "Linear Regression for test R^2: 0.6020564981216516\n"
     ]
    }
   ],
   "source": [
    "X_train, X_val, y_train, y_val = train_test_split(X1, y, test_size=0.25, random_state=42)\n",
    "    \n",
    "#fit linear regression to training data\n",
    "lr_model2 = LinearRegression()\n",
    "lr_model2.fit(X_train, y_train)\n",
    "print(f'Linear Regression for train R^2:{lr_model2.score(X_train, y_train)}')\n",
    "val_score = lr_model2.score(X_val, y_val)\n",
    "print(f'Linear Regression for test R^2: {val_score}')"
   ]
  },
  {
   "cell_type": "code",
   "execution_count": 959,
   "id": "54c4d56c",
   "metadata": {},
   "outputs": [],
   "source": [
    "X2 = X1.copy()\n",
    "\n",
    "# multiplicative interaction\n",
    "X2['Rating_x_installs'] = X2['Rating'] * X2['Installs']\n",
    "X2['Rating_x_reviews'] = X2['Rating'] * X2['Reviews']\n",
    "#X2['Rating_/_installs'] = X2['Rating'] / X2['Installs']\n",
    "#X2['Rating_/_reviews'] = X2['Rating'] / X2['Reviews']"
   ]
  },
  {
   "cell_type": "code",
   "execution_count": 960,
   "id": "70d686df",
   "metadata": {},
   "outputs": [
    {
     "name": "stdout",
     "output_type": "stream",
     "text": [
      "Linear Regression for train R^2: 0.6356434042770405\n",
      "Linear Regression for test R^2: 0.6080677905903289\n"
     ]
    }
   ],
   "source": [
    "X_train, X_val, y_train, y_val = train_test_split(X2, y, test_size=0.25, random_state=42)\n",
    "    \n",
    "#fit linear regression to training data\n",
    "lr_model3 = LinearRegression()\n",
    "fit2 = lr_model3.fit(X_train, y_train)\n",
    "print(f'Linear Regression for train R^2: {lr_model3.score(X_train, y_train)}')\n",
    "val_score = lr_model3.score(X_val, y_val)\n",
    "print(f'Linear Regression for test R^2: {val_score}')"
   ]
  },
  {
   "cell_type": "code",
   "execution_count": 961,
   "id": "a02b5377",
   "metadata": {
    "scrolled": true
   },
   "outputs": [
    {
     "data": {
      "text/html": [
       "<table class=\"simpletable\">\n",
       "<caption>OLS Regression Results</caption>\n",
       "<tr>\n",
       "  <th>Dep. Variable:</th>          <td>Price</td>      <th>  R-squared:         </th> <td>   0.637</td>\n",
       "</tr>\n",
       "<tr>\n",
       "  <th>Model:</th>                   <td>OLS</td>       <th>  Adj. R-squared:    </th> <td>   0.613</td>\n",
       "</tr>\n",
       "<tr>\n",
       "  <th>Method:</th>             <td>Least Squares</td>  <th>  F-statistic:       </th> <td>   26.86</td>\n",
       "</tr>\n",
       "<tr>\n",
       "  <th>Date:</th>             <td>Sun, 26 Sep 2021</td> <th>  Prob (F-statistic):</th> <td>2.57e-26</td>\n",
       "</tr>\n",
       "<tr>\n",
       "  <th>Time:</th>                 <td>12:55:26</td>     <th>  Log-Likelihood:    </th> <td> -250.30</td>\n",
       "</tr>\n",
       "<tr>\n",
       "  <th>No. Observations:</th>      <td>   148</td>      <th>  AIC:               </th> <td>   520.6</td>\n",
       "</tr>\n",
       "<tr>\n",
       "  <th>Df Residuals:</th>          <td>   138</td>      <th>  BIC:               </th> <td>   550.6</td>\n",
       "</tr>\n",
       "<tr>\n",
       "  <th>Df Model:</th>              <td>     9</td>      <th>                     </th>     <td> </td>   \n",
       "</tr>\n",
       "<tr>\n",
       "  <th>Covariance Type:</th>      <td>nonrobust</td>    <th>                     </th>     <td> </td>   \n",
       "</tr>\n",
       "</table>\n",
       "<table class=\"simpletable\">\n",
       "<tr>\n",
       "               <td></td>                 <th>coef</th>     <th>std err</th>      <th>t</th>      <th>P>|t|</th>  <th>[0.025</th>    <th>0.975]</th>  \n",
       "</tr>\n",
       "<tr>\n",
       "  <th>Rating</th>                     <td>   -0.1359</td> <td>    0.040</td> <td>   -3.404</td> <td> 0.001</td> <td>   -0.215</td> <td>   -0.057</td>\n",
       "</tr>\n",
       "<tr>\n",
       "  <th>Installs</th>                   <td>-8.783e-07</td> <td> 5.45e-07</td> <td>   -1.610</td> <td> 0.110</td> <td>-1.96e-06</td> <td>    2e-07</td>\n",
       "</tr>\n",
       "<tr>\n",
       "  <th>Reviews</th>                    <td> 6.292e-06</td> <td> 4.95e-06</td> <td>    1.272</td> <td> 0.206</td> <td>-3.49e-06</td> <td> 1.61e-05</td>\n",
       "</tr>\n",
       "<tr>\n",
       "  <th>Category_ART_AND_DESIGN</th>    <td>    2.5689</td> <td>    0.775</td> <td>    3.313</td> <td> 0.001</td> <td>    1.036</td> <td>    4.102</td>\n",
       "</tr>\n",
       "<tr>\n",
       "  <th>Category_AUTO_AND_VEHICLES</th> <td>    2.5650</td> <td>    0.775</td> <td>    3.311</td> <td> 0.001</td> <td>    1.033</td> <td>    4.097</td>\n",
       "</tr>\n",
       "<tr>\n",
       "  <th>Category_Action</th>            <td>    6.1410</td> <td>    0.812</td> <td>    7.561</td> <td> 0.000</td> <td>    4.535</td> <td>    7.747</td>\n",
       "</tr>\n",
       "<tr>\n",
       "  <th>Category_Arcade</th>            <td>    4.3456</td> <td>    0.848</td> <td>    5.125</td> <td> 0.000</td> <td>    2.669</td> <td>    6.022</td>\n",
       "</tr>\n",
       "<tr>\n",
       "  <th>Category_Other</th>             <td>    5.8750</td> <td>    0.804</td> <td>    7.305</td> <td> 0.000</td> <td>    4.285</td> <td>    7.465</td>\n",
       "</tr>\n",
       "<tr>\n",
       "  <th>Rating_x_installs</th>          <td> 4.281e-08</td> <td> 2.71e-08</td> <td>    1.579</td> <td> 0.117</td> <td>-1.08e-08</td> <td> 9.64e-08</td>\n",
       "</tr>\n",
       "<tr>\n",
       "  <th>Rating_x_reviews</th>           <td>-2.408e-07</td> <td> 2.36e-07</td> <td>   -1.018</td> <td> 0.310</td> <td>-7.08e-07</td> <td> 2.27e-07</td>\n",
       "</tr>\n",
       "</table>\n",
       "<table class=\"simpletable\">\n",
       "<tr>\n",
       "  <th>Omnibus:</th>       <td>46.642</td> <th>  Durbin-Watson:     </th> <td>   2.317</td>\n",
       "</tr>\n",
       "<tr>\n",
       "  <th>Prob(Omnibus):</th> <td> 0.000</td> <th>  Jarque-Bera (JB):  </th> <td> 208.517</td>\n",
       "</tr>\n",
       "<tr>\n",
       "  <th>Skew:</th>          <td> 1.039</td> <th>  Prob(JB):          </th> <td>5.26e-46</td>\n",
       "</tr>\n",
       "<tr>\n",
       "  <th>Kurtosis:</th>      <td> 8.431</td> <th>  Cond. No.          </th> <td>1.46e+09</td>\n",
       "</tr>\n",
       "</table><br/><br/>Notes:<br/>[1] Standard Errors assume that the covariance matrix of the errors is correctly specified.<br/>[2] The condition number is large, 1.46e+09. This might indicate that there are<br/>strong multicollinearity or other numerical problems."
      ],
      "text/plain": [
       "<class 'statsmodels.iolib.summary.Summary'>\n",
       "\"\"\"\n",
       "                            OLS Regression Results                            \n",
       "==============================================================================\n",
       "Dep. Variable:                  Price   R-squared:                       0.637\n",
       "Model:                            OLS   Adj. R-squared:                  0.613\n",
       "Method:                 Least Squares   F-statistic:                     26.86\n",
       "Date:                Sun, 26 Sep 2021   Prob (F-statistic):           2.57e-26\n",
       "Time:                        12:55:26   Log-Likelihood:                -250.30\n",
       "No. Observations:                 148   AIC:                             520.6\n",
       "Df Residuals:                     138   BIC:                             550.6\n",
       "Df Model:                           9                                         \n",
       "Covariance Type:            nonrobust                                         \n",
       "==============================================================================================\n",
       "                                 coef    std err          t      P>|t|      [0.025      0.975]\n",
       "----------------------------------------------------------------------------------------------\n",
       "Rating                        -0.1359      0.040     -3.404      0.001      -0.215      -0.057\n",
       "Installs                   -8.783e-07   5.45e-07     -1.610      0.110   -1.96e-06       2e-07\n",
       "Reviews                     6.292e-06   4.95e-06      1.272      0.206   -3.49e-06    1.61e-05\n",
       "Category_ART_AND_DESIGN        2.5689      0.775      3.313      0.001       1.036       4.102\n",
       "Category_AUTO_AND_VEHICLES     2.5650      0.775      3.311      0.001       1.033       4.097\n",
       "Category_Action                6.1410      0.812      7.561      0.000       4.535       7.747\n",
       "Category_Arcade                4.3456      0.848      5.125      0.000       2.669       6.022\n",
       "Category_Other                 5.8750      0.804      7.305      0.000       4.285       7.465\n",
       "Rating_x_installs           4.281e-08   2.71e-08      1.579      0.117   -1.08e-08    9.64e-08\n",
       "Rating_x_reviews           -2.408e-07   2.36e-07     -1.018      0.310   -7.08e-07    2.27e-07\n",
       "==============================================================================\n",
       "Omnibus:                       46.642   Durbin-Watson:                   2.317\n",
       "Prob(Omnibus):                  0.000   Jarque-Bera (JB):              208.517\n",
       "Skew:                           1.039   Prob(JB):                     5.26e-46\n",
       "Kurtosis:                       8.431   Cond. No.                     1.46e+09\n",
       "==============================================================================\n",
       "\n",
       "Notes:\n",
       "[1] Standard Errors assume that the covariance matrix of the errors is correctly specified.\n",
       "[2] The condition number is large, 1.46e+09. This might indicate that there are\n",
       "strong multicollinearity or other numerical problems.\n",
       "\"\"\""
      ]
     },
     "execution_count": 961,
     "metadata": {},
     "output_type": "execute_result"
    }
   ],
   "source": [
    "import statsmodels.api as sm\n",
    "# Create your model\n",
    "model = sm.OLS(y, X2)\n",
    "\n",
    "# Fit your model to your training set\n",
    "fit = model.fit()\n",
    "\n",
    "# Print summary statistics of the model's performance\n",
    "fit.summary()"
   ]
  },
  {
   "cell_type": "markdown",
   "id": "cde31919",
   "metadata": {},
   "source": [
    "# Ridge model"
   ]
  },
  {
   "cell_type": "markdown",
   "id": "dc4342d0",
   "metadata": {},
   "source": [
    "We tried to run the model different x and the one that performed best with the linear \n",
    "regression model was the best for the ridge model too"
   ]
  },
  {
   "cell_type": "code",
   "execution_count": 962,
   "id": "d6aaff6e",
   "metadata": {},
   "outputs": [
    {
     "name": "stdout",
     "output_type": "stream",
     "text": [
      "Ridge Regression val R^2: 0.531\n"
     ]
    }
   ],
   "source": [
    "X_train, X_val, y_train, y_val = train_test_split(X_dummies, y, test_size=0.25, random_state=10)\n",
    "#Feature scaling for train, val, and test so that we can run our ridge model on each\n",
    "scaler = StandardScaler()\n",
    "\n",
    "X_train_scaled = scaler.fit_transform(X_train)\n",
    "X_test_scaled = scaler.transform(X_val)\n",
    "\n",
    "lm_reg = Ridge(alpha=1)\n",
    "#validate\n",
    "lm_reg.fit(X_train_scaled, y_train)\n",
    "print(f'Ridge Regression val R^2: {lm_reg.score(X_test_scaled, y_val):.3f}')"
   ]
  },
  {
   "cell_type": "code",
   "execution_count": 963,
   "id": "4eed9788",
   "metadata": {},
   "outputs": [
    {
     "name": "stdout",
     "output_type": "stream",
     "text": [
      "Ridge Regression val R^2: 0.526\n"
     ]
    }
   ],
   "source": [
    "X_train, X_val, y_train, y_val = train_test_split(X1, y, test_size=0.25, random_state=10)\n",
    "#Feature scaling for train, val, and test so that we can run our ridge model on each\n",
    "scaler = StandardScaler()\n",
    "\n",
    "X_train_scaled = scaler.fit_transform(X_train)\n",
    "X_test_scaled = scaler.transform(X_val)\n",
    "\n",
    "lm_reg = Ridge(alpha=1)\n",
    "#validate\n",
    "lm_reg.fit(X_train_scaled, y_train)\n",
    "print(f'Ridge Regression val R^2: {lm_reg.score(X_test_scaled, y_val):.3f}')"
   ]
  },
  {
   "cell_type": "code",
   "execution_count": 964,
   "id": "c34e3cb6",
   "metadata": {},
   "outputs": [
    {
     "name": "stdout",
     "output_type": "stream",
     "text": [
      "Ridge Regression val R^2: 0.540\n"
     ]
    }
   ],
   "source": [
    "X_train, X_val, y_train, y_val = train_test_split(X2, y, test_size=0.25, random_state=10)\n",
    "#Feature scaling for train, val, and test so that we can run our ridge model on each\n",
    "scaler = StandardScaler()\n",
    "\n",
    "X_train_scaled = scaler.fit_transform(X_train)\n",
    "X_test_scaled = scaler.transform(X_val)\n",
    "\n",
    "lm_reg = Ridge(alpha=1)\n",
    "#validate\n",
    "lm_reg.fit(X_train_scaled, y_train)\n",
    "print(f'Ridge Regression val R^2: {lm_reg.score(X_test_scaled, y_val):.3f}')"
   ]
  },
  {
   "cell_type": "code",
   "execution_count": 965,
   "id": "d76f440e",
   "metadata": {},
   "outputs": [],
   "source": [
    "def diagnostic_plot(x, y):\n",
    "    plt.figure(figsize=(20,5))\n",
    "    \n",
    "\n",
    "    lr_model3.fit(x, y)\n",
    "    pred = lr_model3.predict(x) # \"regression prediction\"\n",
    "\n",
    "\n",
    "    plt.subplot(1, 3, 1)\n",
    "    plt.scatter(x,y) # \"scatter\"\n",
    "    plt.plot(x, pred, color='blue',linewidth=1)\n",
    "    plt.title(\"Regression fit\")\n",
    "    plt.xlabel(\"x\")\n",
    "    plt.ylabel(\"y\")\n",
    "    \n",
    "    plt.subplot(1, 3, 2)\n",
    "    res = y - pred\n",
    "    plt.scatter(pred, res) # \"scatter supposed to have no pattern\"\n",
    "    plt.title(\"Residual plot\")\n",
    "    plt.xlabel(\"prediction\")\n",
    "    plt.ylabel(\"residuals\")\n",
    "    \n",
    "    plt.subplot(1, 3, 3)\n",
    "    #Generates a probability plot of sample data against the quantiles of a \n",
    "    # specified theoretical distribution \n",
    "    stats.probplot(res, dist=\"norm\", plot=plt) # \"normal qq plot\"\n",
    "    plt.title(\"Normal Q-Q plot\")"
   ]
  },
  {
   "cell_type": "code",
   "execution_count": 966,
   "id": "5b1bf2cd",
   "metadata": {},
   "outputs": [],
   "source": [
    "# Generate fake data\n",
    "s = 500\n",
    "x = np.random.uniform(low=-5, high=5, size=s)"
   ]
  },
  {
   "cell_type": "code",
   "execution_count": 967,
   "id": "671c599e",
   "metadata": {},
   "outputs": [
    {
     "data": {
      "image/png": "[encoded data removed]",
      "text/plain": [
       "<Figure size 1440x360 with 3 Axes>"
      ]
     },
     "metadata": {
      "needs_background": "light"
     },
     "output_type": "display_data"
    }
   ],
   "source": [
    "epsilon = 2*np.random.randn(s)\n",
    "beta = 2\n",
    "y = beta*x + epsilon\n",
    "\n",
    "diagnostic_plot(x.reshape(s,1), y) # we reshape x to turn it into a tall column"
   ]
  },
  {
   "cell_type": "markdown",
   "id": "f3079508",
   "metadata": {},
   "source": [
    "# Assumption: residuals ( ${e_i} = Y_i-\\hat{Y}_i$ ) should be normally distributed with zero mean"
   ]
  },
  {
   "cell_type": "code",
   "execution_count": 968,
   "id": "83ca043b",
   "metadata": {},
   "outputs": [
    {
     "data": {
      "image/png": "[encoded data removed]",
      "text/plain": [
       "<Figure size 720x432 with 1 Axes>"
      ]
     },
     "metadata": {},
     "output_type": "display_data"
    }
   ],
   "source": [
    "# create residual plot\n",
    "df['predict']=fit.predict(X2)\n",
    "df['resid']=df.Price-df.predict # \"residuals\"\n",
    "with sns.axes_style('white'):\n",
    "    plot=df.plot(kind='scatter',\n",
    "                  x='predict',y='resid',alpha=0.2,figsize=(10,6))"
   ]
  },
  {
   "cell_type": "code",
   "execution_count": 969,
   "id": "e0f552c7",
   "metadata": {},
   "outputs": [
    {
     "data": {
      "text/html": [
       "<div>\n",
       "<style scoped>\n",
       "    .dataframe tbody tr th:only-of-type {\n",
       "        vertical-align: middle;\n",
       "    }\n",
       "\n",
       "    .dataframe tbody tr th {\n",
       "        vertical-align: top;\n",
       "    }\n",
       "\n",
       "    .dataframe thead th {\n",
       "        text-align: right;\n",
       "    }\n",
       "</style>\n",
       "<table border=\"1\" class=\"dataframe\">\n",
       "  <thead>\n",
       "    <tr style=\"text-align: right;\">\n",
       "      <th></th>\n",
       "      <th>Price</th>\n",
       "      <th>Reviews</th>\n",
       "      <th>Rating</th>\n",
       "      <th>Installs</th>\n",
       "      <th>Category_ART_AND_DESIGN</th>\n",
       "      <th>Category_AUTO_AND_VEHICLES</th>\n",
       "      <th>Category_Action</th>\n",
       "      <th>Category_Arcade</th>\n",
       "      <th>Category_Other</th>\n",
       "      <th>predict</th>\n",
       "      <th>resid</th>\n",
       "    </tr>\n",
       "  </thead>\n",
       "  <tbody>\n",
       "    <tr>\n",
       "      <th>0</th>\n",
       "      <td>7.49</td>\n",
       "      <td>4271539.0</td>\n",
       "      <td>4.6</td>\n",
       "      <td>10000000.0</td>\n",
       "      <td>0</td>\n",
       "      <td>0</td>\n",
       "      <td>0</td>\n",
       "      <td>1</td>\n",
       "      <td>0</td>\n",
       "      <td>6.859630</td>\n",
       "      <td>0.630370</td>\n",
       "    </tr>\n",
       "    <tr>\n",
       "      <th>1</th>\n",
       "      <td>6.99</td>\n",
       "      <td>653949.0</td>\n",
       "      <td>3.4</td>\n",
       "      <td>1000000.0</td>\n",
       "      <td>0</td>\n",
       "      <td>0</td>\n",
       "      <td>1</td>\n",
       "      <td>0</td>\n",
       "      <td>0</td>\n",
       "      <td>6.481079</td>\n",
       "      <td>0.508921</td>\n",
       "    </tr>\n",
       "    <tr>\n",
       "      <th>2</th>\n",
       "      <td>0.99</td>\n",
       "      <td>36378.0</td>\n",
       "      <td>4.1</td>\n",
       "      <td>500000.0</td>\n",
       "      <td>0</td>\n",
       "      <td>0</td>\n",
       "      <td>1</td>\n",
       "      <td>0</td>\n",
       "      <td>0</td>\n",
       "      <td>3.858637</td>\n",
       "      <td>-2.868637</td>\n",
       "    </tr>\n",
       "    <tr>\n",
       "      <th>3</th>\n",
       "      <td>0.99</td>\n",
       "      <td>111562.0</td>\n",
       "      <td>4.3</td>\n",
       "      <td>1000000.0</td>\n",
       "      <td>0</td>\n",
       "      <td>0</td>\n",
       "      <td>0</td>\n",
       "      <td>0</td>\n",
       "      <td>1</td>\n",
       "      <td>3.480518</td>\n",
       "      <td>-2.490518</td>\n",
       "    </tr>\n",
       "    <tr>\n",
       "      <th>4</th>\n",
       "      <td>4.99</td>\n",
       "      <td>122.0</td>\n",
       "      <td>4.2</td>\n",
       "      <td>500.0</td>\n",
       "      <td>0</td>\n",
       "      <td>0</td>\n",
       "      <td>0</td>\n",
       "      <td>0</td>\n",
       "      <td>1</td>\n",
       "      <td>3.477749</td>\n",
       "      <td>1.512251</td>\n",
       "    </tr>\n",
       "  </tbody>\n",
       "</table>\n",
       "</div>"
      ],
      "text/plain": [
       "   Price    Reviews  Rating    Installs  Category_ART_AND_DESIGN  \\\n",
       "0   7.49  4271539.0     4.6  10000000.0                        0   \n",
       "1   6.99   653949.0     3.4   1000000.0                        0   \n",
       "2   0.99    36378.0     4.1    500000.0                        0   \n",
       "3   0.99   111562.0     4.3   1000000.0                        0   \n",
       "4   4.99      122.0     4.2       500.0                        0   \n",
       "\n",
       "   Category_AUTO_AND_VEHICLES  Category_Action  Category_Arcade  \\\n",
       "0                           0                0                1   \n",
       "1                           0                1                0   \n",
       "2                           0                1                0   \n",
       "3                           0                0                0   \n",
       "4                           0                0                0   \n",
       "\n",
       "   Category_Other   predict     resid  \n",
       "0               0  6.859630  0.630370  \n",
       "1               0  6.481079  0.508921  \n",
       "2               0  3.858637 -2.868637  \n",
       "3               1  3.480518 -2.490518  \n",
       "4               1  3.477749  1.512251  "
      ]
     },
     "execution_count": 969,
     "metadata": {},
     "output_type": "execute_result"
    }
   ],
   "source": [
    "df.head()"
   ]
  },
  {
   "cell_type": "code",
   "execution_count": 970,
   "id": "bd1d31bf",
   "metadata": {},
   "outputs": [
    {
     "data": {
      "image/png": "[encoded data removed]",
      "text/plain": [
       "<Figure size 432x288 with 1 Axes>"
      ]
     },
     "metadata": {
      "needs_background": "light"
     },
     "output_type": "display_data"
    }
   ],
   "source": [
    "# inspect histogram\n",
    "df.Price.hist(bins=20)\n",
    "plt.title('Histogram');"
   ]
  },
  {
   "cell_type": "code",
   "execution_count": 971,
   "id": "3e0c0377",
   "metadata": {},
   "outputs": [
    {
     "data": {
      "image/png": "[encoded data removed]",
      "text/plain": [
       "<Figure size 432x288 with 1 Axes>"
      ]
     },
     "metadata": {
      "needs_background": "light"
     },
     "output_type": "display_data"
    }
   ],
   "source": [
    "# diagnose/inspect residual normality using qqplot:\n",
    "stats.probplot(df['resid'], dist=\"norm\", plot=plt)\n",
    "plt.title(\"Normal Q-Q plot\")\n",
    "plt.show()"
   ]
  },
  {
   "cell_type": "markdown",
   "id": "6906b969",
   "metadata": {},
   "source": [
    "# Assumption 3: error terms must have constant variance\n"
   ]
  },
  {
   "cell_type": "code",
   "execution_count": 972,
   "id": "3bfab901",
   "metadata": {},
   "outputs": [
    {
     "data": {
      "text/html": [
       "<div>\n",
       "<style scoped>\n",
       "    .dataframe tbody tr th:only-of-type {\n",
       "        vertical-align: middle;\n",
       "    }\n",
       "\n",
       "    .dataframe tbody tr th {\n",
       "        vertical-align: top;\n",
       "    }\n",
       "\n",
       "    .dataframe thead th {\n",
       "        text-align: right;\n",
       "    }\n",
       "</style>\n",
       "<table border=\"1\" class=\"dataframe\">\n",
       "  <thead>\n",
       "    <tr style=\"text-align: right;\">\n",
       "      <th></th>\n",
       "      <th>Price</th>\n",
       "      <th>Reviews</th>\n",
       "      <th>Rating</th>\n",
       "      <th>Installs</th>\n",
       "      <th>Category_ART_AND_DESIGN</th>\n",
       "      <th>Category_AUTO_AND_VEHICLES</th>\n",
       "      <th>Category_Action</th>\n",
       "      <th>Category_Arcade</th>\n",
       "      <th>Category_Other</th>\n",
       "      <th>predict</th>\n",
       "      <th>resid</th>\n",
       "    </tr>\n",
       "  </thead>\n",
       "  <tbody>\n",
       "    <tr>\n",
       "      <th>count</th>\n",
       "      <td>148.000000</td>\n",
       "      <td>1.480000e+02</td>\n",
       "      <td>148.000000</td>\n",
       "      <td>1.480000e+02</td>\n",
       "      <td>148.000000</td>\n",
       "      <td>148.000000</td>\n",
       "      <td>148.000000</td>\n",
       "      <td>148.000000</td>\n",
       "      <td>148.000000</td>\n",
       "      <td>148.000000</td>\n",
       "      <td>1.480000e+02</td>\n",
       "    </tr>\n",
       "    <tr>\n",
       "      <th>mean</th>\n",
       "      <td>1.184324</td>\n",
       "      <td>7.566080e+04</td>\n",
       "      <td>4.298649</td>\n",
       "      <td>1.379970e+06</td>\n",
       "      <td>0.317568</td>\n",
       "      <td>0.331081</td>\n",
       "      <td>0.094595</td>\n",
       "      <td>0.067568</td>\n",
       "      <td>0.189189</td>\n",
       "      <td>1.184324</td>\n",
       "      <td>-3.614535e-12</td>\n",
       "    </tr>\n",
       "    <tr>\n",
       "      <th>std</th>\n",
       "      <td>2.185355</td>\n",
       "      <td>3.678760e+05</td>\n",
       "      <td>0.375434</td>\n",
       "      <td>4.616549e+06</td>\n",
       "      <td>0.467111</td>\n",
       "      <td>0.472200</td>\n",
       "      <td>0.293648</td>\n",
       "      <td>0.251855</td>\n",
       "      <td>0.392989</td>\n",
       "      <td>1.743650</td>\n",
       "      <td>1.317369e+00</td>\n",
       "    </tr>\n",
       "    <tr>\n",
       "      <th>min</th>\n",
       "      <td>0.000000</td>\n",
       "      <td>2.600000e+01</td>\n",
       "      <td>2.900000</td>\n",
       "      <td>5.000000e+02</td>\n",
       "      <td>0.000000</td>\n",
       "      <td>0.000000</td>\n",
       "      <td>0.000000</td>\n",
       "      <td>0.000000</td>\n",
       "      <td>0.000000</td>\n",
       "      <td>-0.969158</td>\n",
       "      <td>-3.429207e+00</td>\n",
       "    </tr>\n",
       "    <tr>\n",
       "      <th>25%</th>\n",
       "      <td>0.000000</td>\n",
       "      <td>6.382500e+02</td>\n",
       "      <td>4.100000</td>\n",
       "      <td>1.000000e+05</td>\n",
       "      <td>0.000000</td>\n",
       "      <td>0.000000</td>\n",
       "      <td>0.000000</td>\n",
       "      <td>0.000000</td>\n",
       "      <td>0.000000</td>\n",
       "      <td>-0.178796</td>\n",
       "      <td>-4.134859e-01</td>\n",
       "    </tr>\n",
       "    <tr>\n",
       "      <th>50%</th>\n",
       "      <td>0.000000</td>\n",
       "      <td>4.920500e+03</td>\n",
       "      <td>4.300000</td>\n",
       "      <td>1.000000e+05</td>\n",
       "      <td>0.000000</td>\n",
       "      <td>0.000000</td>\n",
       "      <td>0.000000</td>\n",
       "      <td>0.000000</td>\n",
       "      <td>0.000000</td>\n",
       "      <td>0.299016</td>\n",
       "      <td>-1.240389e-02</td>\n",
       "    </tr>\n",
       "    <tr>\n",
       "      <th>75%</th>\n",
       "      <td>1.115000</td>\n",
       "      <td>3.644325e+04</td>\n",
       "      <td>4.600000</td>\n",
       "      <td>1.000000e+06</td>\n",
       "      <td>1.000000</td>\n",
       "      <td>1.000000</td>\n",
       "      <td>0.000000</td>\n",
       "      <td>0.000000</td>\n",
       "      <td>0.000000</td>\n",
       "      <td>3.043017</td>\n",
       "      <td>3.829808e-01</td>\n",
       "    </tr>\n",
       "    <tr>\n",
       "      <th>max</th>\n",
       "      <td>9.990000</td>\n",
       "      <td>4.271539e+06</td>\n",
       "      <td>4.900000</td>\n",
       "      <td>5.000000e+07</td>\n",
       "      <td>1.000000</td>\n",
       "      <td>1.000000</td>\n",
       "      <td>1.000000</td>\n",
       "      <td>1.000000</td>\n",
       "      <td>1.000000</td>\n",
       "      <td>6.859630</td>\n",
       "      <td>5.886458e+00</td>\n",
       "    </tr>\n",
       "  </tbody>\n",
       "</table>\n",
       "</div>"
      ],
      "text/plain": [
       "            Price       Reviews      Rating      Installs  \\\n",
       "count  148.000000  1.480000e+02  148.000000  1.480000e+02   \n",
       "mean     1.184324  7.566080e+04    4.298649  1.379970e+06   \n",
       "std      2.185355  3.678760e+05    0.375434  4.616549e+06   \n",
       "min      0.000000  2.600000e+01    2.900000  5.000000e+02   \n",
       "25%      0.000000  6.382500e+02    4.100000  1.000000e+05   \n",
       "50%      0.000000  4.920500e+03    4.300000  1.000000e+05   \n",
       "75%      1.115000  3.644325e+04    4.600000  1.000000e+06   \n",
       "max      9.990000  4.271539e+06    4.900000  5.000000e+07   \n",
       "\n",
       "       Category_ART_AND_DESIGN  Category_AUTO_AND_VEHICLES  Category_Action  \\\n",
       "count               148.000000                  148.000000       148.000000   \n",
       "mean                  0.317568                    0.331081         0.094595   \n",
       "std                   0.467111                    0.472200         0.293648   \n",
       "min                   0.000000                    0.000000         0.000000   \n",
       "25%                   0.000000                    0.000000         0.000000   \n",
       "50%                   0.000000                    0.000000         0.000000   \n",
       "75%                   1.000000                    1.000000         0.000000   \n",
       "max                   1.000000                    1.000000         1.000000   \n",
       "\n",
       "       Category_Arcade  Category_Other     predict         resid  \n",
       "count       148.000000      148.000000  148.000000  1.480000e+02  \n",
       "mean          0.067568        0.189189    1.184324 -3.614535e-12  \n",
       "std           0.251855        0.392989    1.743650  1.317369e+00  \n",
       "min           0.000000        0.000000   -0.969158 -3.429207e+00  \n",
       "25%           0.000000        0.000000   -0.178796 -4.134859e-01  \n",
       "50%           0.000000        0.000000    0.299016 -1.240389e-02  \n",
       "75%           0.000000        0.000000    3.043017  3.829808e-01  \n",
       "max           1.000000        1.000000    6.859630  5.886458e+00  "
      ]
     },
     "execution_count": 972,
     "metadata": {},
     "output_type": "execute_result"
    }
   ],
   "source": [
    "df.describe()"
   ]
  },
  {
   "cell_type": "code",
   "execution_count": 973,
   "id": "b1d6f3f6",
   "metadata": {},
   "outputs": [
    {
     "data": {
      "text/html": [
       "<table class=\"simpletable\">\n",
       "<caption>OLS Regression Results</caption>\n",
       "<tr>\n",
       "  <th>Dep. Variable:</th>          <td>Price</td>      <th>  R-squared:         </th> <td>   0.637</td>\n",
       "</tr>\n",
       "<tr>\n",
       "  <th>Model:</th>                   <td>OLS</td>       <th>  Adj. R-squared:    </th> <td>   0.613</td>\n",
       "</tr>\n",
       "<tr>\n",
       "  <th>Method:</th>             <td>Least Squares</td>  <th>  F-statistic:       </th> <td>   26.86</td>\n",
       "</tr>\n",
       "<tr>\n",
       "  <th>Date:</th>             <td>Sun, 26 Sep 2021</td> <th>  Prob (F-statistic):</th> <td>2.57e-26</td>\n",
       "</tr>\n",
       "<tr>\n",
       "  <th>Time:</th>                 <td>12:55:37</td>     <th>  Log-Likelihood:    </th> <td> -250.30</td>\n",
       "</tr>\n",
       "<tr>\n",
       "  <th>No. Observations:</th>      <td>   148</td>      <th>  AIC:               </th> <td>   520.6</td>\n",
       "</tr>\n",
       "<tr>\n",
       "  <th>Df Residuals:</th>          <td>   138</td>      <th>  BIC:               </th> <td>   550.6</td>\n",
       "</tr>\n",
       "<tr>\n",
       "  <th>Df Model:</th>              <td>     9</td>      <th>                     </th>     <td> </td>   \n",
       "</tr>\n",
       "<tr>\n",
       "  <th>Covariance Type:</th>      <td>nonrobust</td>    <th>                     </th>     <td> </td>   \n",
       "</tr>\n",
       "</table>\n",
       "<table class=\"simpletable\">\n",
       "<tr>\n",
       "               <td></td>                 <th>coef</th>     <th>std err</th>      <th>t</th>      <th>P>|t|</th>  <th>[0.025</th>    <th>0.975]</th>  \n",
       "</tr>\n",
       "<tr>\n",
       "  <th>Rating</th>                     <td>   -0.1359</td> <td>    0.040</td> <td>   -3.404</td> <td> 0.001</td> <td>   -0.215</td> <td>   -0.057</td>\n",
       "</tr>\n",
       "<tr>\n",
       "  <th>Installs</th>                   <td>-8.783e-07</td> <td> 5.45e-07</td> <td>   -1.610</td> <td> 0.110</td> <td>-1.96e-06</td> <td>    2e-07</td>\n",
       "</tr>\n",
       "<tr>\n",
       "  <th>Reviews</th>                    <td> 6.292e-06</td> <td> 4.95e-06</td> <td>    1.272</td> <td> 0.206</td> <td>-3.49e-06</td> <td> 1.61e-05</td>\n",
       "</tr>\n",
       "<tr>\n",
       "  <th>Category_ART_AND_DESIGN</th>    <td>    2.5689</td> <td>    0.775</td> <td>    3.313</td> <td> 0.001</td> <td>    1.036</td> <td>    4.102</td>\n",
       "</tr>\n",
       "<tr>\n",
       "  <th>Category_AUTO_AND_VEHICLES</th> <td>    2.5650</td> <td>    0.775</td> <td>    3.311</td> <td> 0.001</td> <td>    1.033</td> <td>    4.097</td>\n",
       "</tr>\n",
       "<tr>\n",
       "  <th>Category_Action</th>            <td>    6.1410</td> <td>    0.812</td> <td>    7.561</td> <td> 0.000</td> <td>    4.535</td> <td>    7.747</td>\n",
       "</tr>\n",
       "<tr>\n",
       "  <th>Category_Arcade</th>            <td>    4.3456</td> <td>    0.848</td> <td>    5.125</td> <td> 0.000</td> <td>    2.669</td> <td>    6.022</td>\n",
       "</tr>\n",
       "<tr>\n",
       "  <th>Category_Other</th>             <td>    5.8750</td> <td>    0.804</td> <td>    7.305</td> <td> 0.000</td> <td>    4.285</td> <td>    7.465</td>\n",
       "</tr>\n",
       "<tr>\n",
       "  <th>Rating_x_installs</th>          <td> 4.281e-08</td> <td> 2.71e-08</td> <td>    1.579</td> <td> 0.117</td> <td>-1.08e-08</td> <td> 9.64e-08</td>\n",
       "</tr>\n",
       "<tr>\n",
       "  <th>Rating_x_reviews</th>           <td>-2.408e-07</td> <td> 2.36e-07</td> <td>   -1.018</td> <td> 0.310</td> <td>-7.08e-07</td> <td> 2.27e-07</td>\n",
       "</tr>\n",
       "</table>\n",
       "<table class=\"simpletable\">\n",
       "<tr>\n",
       "  <th>Omnibus:</th>       <td>46.642</td> <th>  Durbin-Watson:     </th> <td>   2.317</td>\n",
       "</tr>\n",
       "<tr>\n",
       "  <th>Prob(Omnibus):</th> <td> 0.000</td> <th>  Jarque-Bera (JB):  </th> <td> 208.517</td>\n",
       "</tr>\n",
       "<tr>\n",
       "  <th>Skew:</th>          <td> 1.039</td> <th>  Prob(JB):          </th> <td>5.26e-46</td>\n",
       "</tr>\n",
       "<tr>\n",
       "  <th>Kurtosis:</th>      <td> 8.431</td> <th>  Cond. No.          </th> <td>1.46e+09</td>\n",
       "</tr>\n",
       "</table><br/><br/>Notes:<br/>[1] Standard Errors assume that the covariance matrix of the errors is correctly specified.<br/>[2] The condition number is large, 1.46e+09. This might indicate that there are<br/>strong multicollinearity or other numerical problems."
      ],
      "text/plain": [
       "<class 'statsmodels.iolib.summary.Summary'>\n",
       "\"\"\"\n",
       "                            OLS Regression Results                            \n",
       "==============================================================================\n",
       "Dep. Variable:                  Price   R-squared:                       0.637\n",
       "Model:                            OLS   Adj. R-squared:                  0.613\n",
       "Method:                 Least Squares   F-statistic:                     26.86\n",
       "Date:                Sun, 26 Sep 2021   Prob (F-statistic):           2.57e-26\n",
       "Time:                        12:55:37   Log-Likelihood:                -250.30\n",
       "No. Observations:                 148   AIC:                             520.6\n",
       "Df Residuals:                     138   BIC:                             550.6\n",
       "Df Model:                           9                                         \n",
       "Covariance Type:            nonrobust                                         \n",
       "==============================================================================================\n",
       "                                 coef    std err          t      P>|t|      [0.025      0.975]\n",
       "----------------------------------------------------------------------------------------------\n",
       "Rating                        -0.1359      0.040     -3.404      0.001      -0.215      -0.057\n",
       "Installs                   -8.783e-07   5.45e-07     -1.610      0.110   -1.96e-06       2e-07\n",
       "Reviews                     6.292e-06   4.95e-06      1.272      0.206   -3.49e-06    1.61e-05\n",
       "Category_ART_AND_DESIGN        2.5689      0.775      3.313      0.001       1.036       4.102\n",
       "Category_AUTO_AND_VEHICLES     2.5650      0.775      3.311      0.001       1.033       4.097\n",
       "Category_Action                6.1410      0.812      7.561      0.000       4.535       7.747\n",
       "Category_Arcade                4.3456      0.848      5.125      0.000       2.669       6.022\n",
       "Category_Other                 5.8750      0.804      7.305      0.000       4.285       7.465\n",
       "Rating_x_installs           4.281e-08   2.71e-08      1.579      0.117   -1.08e-08    9.64e-08\n",
       "Rating_x_reviews           -2.408e-07   2.36e-07     -1.018      0.310   -7.08e-07    2.27e-07\n",
       "==============================================================================\n",
       "Omnibus:                       46.642   Durbin-Watson:                   2.317\n",
       "Prob(Omnibus):                  0.000   Jarque-Bera (JB):              208.517\n",
       "Skew:                           1.039   Prob(JB):                     5.26e-46\n",
       "Kurtosis:                       8.431   Cond. No.                     1.46e+09\n",
       "==============================================================================\n",
       "\n",
       "Notes:\n",
       "[1] Standard Errors assume that the covariance matrix of the errors is correctly specified.\n",
       "[2] The condition number is large, 1.46e+09. This might indicate that there are\n",
       "strong multicollinearity or other numerical problems.\n",
       "\"\"\""
      ]
     },
     "execution_count": 973,
     "metadata": {},
     "output_type": "execute_result"
    }
   ],
   "source": [
    "fit.summary()"
   ]
  },
  {
   "cell_type": "code",
   "execution_count": null,
   "id": "1628714e",
   "metadata": {},
   "outputs": [],
   "source": []
  }
 ],
 "metadata": {
  "kernelspec": {
   "display_name": "Python 3",
   "language": "python",
   "name": "python3"
  },
  "language_info": {
   "codemirror_mode": {
    "name": "ipython",
    "version": 3
   },
   "file_extension": ".py",
   "mimetype": "text/x-python",
   "name": "python",
   "nbconvert_exporter": "python",
   "pygments_lexer": "ipython3",
   "version": "3.8.8"
  }
 },
 "nbformat": 4,
 "nbformat_minor": 5
}
